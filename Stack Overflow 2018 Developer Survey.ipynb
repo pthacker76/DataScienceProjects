{
 "cells": [
  {
   "cell_type": "markdown",
   "metadata": {},
   "source": [
    "### Stack Overflow 2018 Developer Survey"
   ]
  },
  {
   "cell_type": "markdown",
   "metadata": {},
   "source": [
    "This project is geared towards looking at practical data analysis. \n",
    "The goal of this project is to find the best two markets to advertise our programming products using the Stack Overflow 2018 Developer Survey."
   ]
  },
  {
   "cell_type": "code",
   "execution_count": 1,
   "metadata": {},
   "outputs": [
    {
     "data": {
      "text/html": [
       "<div>\n",
       "<style scoped>\n",
       "    .dataframe tbody tr th:only-of-type {\n",
       "        vertical-align: middle;\n",
       "    }\n",
       "\n",
       "    .dataframe tbody tr th {\n",
       "        vertical-align: top;\n",
       "    }\n",
       "\n",
       "    .dataframe thead th {\n",
       "        text-align: right;\n",
       "    }\n",
       "</style>\n",
       "<table border=\"1\" class=\"dataframe\">\n",
       "  <thead>\n",
       "    <tr style=\"text-align: right;\">\n",
       "      <th></th>\n",
       "      <th>Respondent</th>\n",
       "      <th>Hobby</th>\n",
       "      <th>OpenSource</th>\n",
       "      <th>Country</th>\n",
       "      <th>Student</th>\n",
       "      <th>Employment</th>\n",
       "      <th>FormalEducation</th>\n",
       "      <th>UndergradMajor</th>\n",
       "      <th>CompanySize</th>\n",
       "      <th>DevType</th>\n",
       "      <th>...</th>\n",
       "      <th>Exercise</th>\n",
       "      <th>Gender</th>\n",
       "      <th>SexualOrientation</th>\n",
       "      <th>EducationParents</th>\n",
       "      <th>RaceEthnicity</th>\n",
       "      <th>Age</th>\n",
       "      <th>Dependents</th>\n",
       "      <th>MilitaryUS</th>\n",
       "      <th>SurveyTooLong</th>\n",
       "      <th>SurveyEasy</th>\n",
       "    </tr>\n",
       "  </thead>\n",
       "  <tbody>\n",
       "    <tr>\n",
       "      <th>0</th>\n",
       "      <td>1</td>\n",
       "      <td>Yes</td>\n",
       "      <td>No</td>\n",
       "      <td>Kenya</td>\n",
       "      <td>No</td>\n",
       "      <td>Employed part-time</td>\n",
       "      <td>Bachelor’s degree (BA, BS, B.Eng., etc.)</td>\n",
       "      <td>Mathematics or statistics</td>\n",
       "      <td>20 to 99 employees</td>\n",
       "      <td>Full-stack developer</td>\n",
       "      <td>...</td>\n",
       "      <td>3 - 4 times per week</td>\n",
       "      <td>Male</td>\n",
       "      <td>Straight or heterosexual</td>\n",
       "      <td>Bachelor’s degree (BA, BS, B.Eng., etc.)</td>\n",
       "      <td>Black or of African descent</td>\n",
       "      <td>25 - 34 years old</td>\n",
       "      <td>Yes</td>\n",
       "      <td>NaN</td>\n",
       "      <td>The survey was an appropriate length</td>\n",
       "      <td>Very easy</td>\n",
       "    </tr>\n",
       "    <tr>\n",
       "      <th>1</th>\n",
       "      <td>3</td>\n",
       "      <td>Yes</td>\n",
       "      <td>Yes</td>\n",
       "      <td>United Kingdom</td>\n",
       "      <td>No</td>\n",
       "      <td>Employed full-time</td>\n",
       "      <td>Bachelor’s degree (BA, BS, B.Eng., etc.)</td>\n",
       "      <td>A natural science (ex. biology, chemistry, phy...</td>\n",
       "      <td>10,000 or more employees</td>\n",
       "      <td>Database administrator;DevOps specialist;Full-...</td>\n",
       "      <td>...</td>\n",
       "      <td>Daily or almost every day</td>\n",
       "      <td>Male</td>\n",
       "      <td>Straight or heterosexual</td>\n",
       "      <td>Bachelor’s degree (BA, BS, B.Eng., etc.)</td>\n",
       "      <td>White or of European descent</td>\n",
       "      <td>35 - 44 years old</td>\n",
       "      <td>Yes</td>\n",
       "      <td>NaN</td>\n",
       "      <td>The survey was an appropriate length</td>\n",
       "      <td>Somewhat easy</td>\n",
       "    </tr>\n",
       "    <tr>\n",
       "      <th>2</th>\n",
       "      <td>4</td>\n",
       "      <td>Yes</td>\n",
       "      <td>Yes</td>\n",
       "      <td>United States</td>\n",
       "      <td>No</td>\n",
       "      <td>Employed full-time</td>\n",
       "      <td>Associate degree</td>\n",
       "      <td>Computer science, computer engineering, or sof...</td>\n",
       "      <td>20 to 99 employees</td>\n",
       "      <td>Engineering manager;Full-stack developer</td>\n",
       "      <td>...</td>\n",
       "      <td>NaN</td>\n",
       "      <td>NaN</td>\n",
       "      <td>NaN</td>\n",
       "      <td>NaN</td>\n",
       "      <td>NaN</td>\n",
       "      <td>NaN</td>\n",
       "      <td>NaN</td>\n",
       "      <td>NaN</td>\n",
       "      <td>NaN</td>\n",
       "      <td>NaN</td>\n",
       "    </tr>\n",
       "    <tr>\n",
       "      <th>3</th>\n",
       "      <td>5</td>\n",
       "      <td>No</td>\n",
       "      <td>No</td>\n",
       "      <td>United States</td>\n",
       "      <td>No</td>\n",
       "      <td>Employed full-time</td>\n",
       "      <td>Bachelor’s degree (BA, BS, B.Eng., etc.)</td>\n",
       "      <td>Computer science, computer engineering, or sof...</td>\n",
       "      <td>100 to 499 employees</td>\n",
       "      <td>Full-stack developer</td>\n",
       "      <td>...</td>\n",
       "      <td>I don't typically exercise</td>\n",
       "      <td>Male</td>\n",
       "      <td>Straight or heterosexual</td>\n",
       "      <td>Some college/university study without earning ...</td>\n",
       "      <td>White or of European descent</td>\n",
       "      <td>35 - 44 years old</td>\n",
       "      <td>No</td>\n",
       "      <td>No</td>\n",
       "      <td>The survey was an appropriate length</td>\n",
       "      <td>Somewhat easy</td>\n",
       "    </tr>\n",
       "    <tr>\n",
       "      <th>4</th>\n",
       "      <td>7</td>\n",
       "      <td>Yes</td>\n",
       "      <td>No</td>\n",
       "      <td>South Africa</td>\n",
       "      <td>Yes, part-time</td>\n",
       "      <td>Employed full-time</td>\n",
       "      <td>Some college/university study without earning ...</td>\n",
       "      <td>Computer science, computer engineering, or sof...</td>\n",
       "      <td>10,000 or more employees</td>\n",
       "      <td>Data or business analyst;Desktop or enterprise...</td>\n",
       "      <td>...</td>\n",
       "      <td>3 - 4 times per week</td>\n",
       "      <td>Male</td>\n",
       "      <td>Straight or heterosexual</td>\n",
       "      <td>Some college/university study without earning ...</td>\n",
       "      <td>White or of European descent</td>\n",
       "      <td>18 - 24 years old</td>\n",
       "      <td>Yes</td>\n",
       "      <td>NaN</td>\n",
       "      <td>The survey was an appropriate length</td>\n",
       "      <td>Somewhat easy</td>\n",
       "    </tr>\n",
       "  </tbody>\n",
       "</table>\n",
       "<p>5 rows × 129 columns</p>\n",
       "</div>"
      ],
      "text/plain": [
       "   Respondent Hobby OpenSource         Country         Student  \\\n",
       "0           1   Yes         No           Kenya              No   \n",
       "1           3   Yes        Yes  United Kingdom              No   \n",
       "2           4   Yes        Yes   United States              No   \n",
       "3           5    No         No   United States              No   \n",
       "4           7   Yes         No    South Africa  Yes, part-time   \n",
       "\n",
       "           Employment                                    FormalEducation  \\\n",
       "0  Employed part-time           Bachelor’s degree (BA, BS, B.Eng., etc.)   \n",
       "1  Employed full-time           Bachelor’s degree (BA, BS, B.Eng., etc.)   \n",
       "2  Employed full-time                                   Associate degree   \n",
       "3  Employed full-time           Bachelor’s degree (BA, BS, B.Eng., etc.)   \n",
       "4  Employed full-time  Some college/university study without earning ...   \n",
       "\n",
       "                                      UndergradMajor  \\\n",
       "0                          Mathematics or statistics   \n",
       "1  A natural science (ex. biology, chemistry, phy...   \n",
       "2  Computer science, computer engineering, or sof...   \n",
       "3  Computer science, computer engineering, or sof...   \n",
       "4  Computer science, computer engineering, or sof...   \n",
       "\n",
       "                CompanySize  \\\n",
       "0        20 to 99 employees   \n",
       "1  10,000 or more employees   \n",
       "2        20 to 99 employees   \n",
       "3      100 to 499 employees   \n",
       "4  10,000 or more employees   \n",
       "\n",
       "                                             DevType  ...  \\\n",
       "0                               Full-stack developer  ...   \n",
       "1  Database administrator;DevOps specialist;Full-...  ...   \n",
       "2           Engineering manager;Full-stack developer  ...   \n",
       "3                               Full-stack developer  ...   \n",
       "4  Data or business analyst;Desktop or enterprise...  ...   \n",
       "\n",
       "                     Exercise Gender         SexualOrientation  \\\n",
       "0        3 - 4 times per week   Male  Straight or heterosexual   \n",
       "1   Daily or almost every day   Male  Straight or heterosexual   \n",
       "2                         NaN    NaN                       NaN   \n",
       "3  I don't typically exercise   Male  Straight or heterosexual   \n",
       "4        3 - 4 times per week   Male  Straight or heterosexual   \n",
       "\n",
       "                                    EducationParents  \\\n",
       "0           Bachelor’s degree (BA, BS, B.Eng., etc.)   \n",
       "1           Bachelor’s degree (BA, BS, B.Eng., etc.)   \n",
       "2                                                NaN   \n",
       "3  Some college/university study without earning ...   \n",
       "4  Some college/university study without earning ...   \n",
       "\n",
       "                  RaceEthnicity                Age Dependents  MilitaryUS  \\\n",
       "0   Black or of African descent  25 - 34 years old        Yes         NaN   \n",
       "1  White or of European descent  35 - 44 years old        Yes         NaN   \n",
       "2                           NaN                NaN        NaN         NaN   \n",
       "3  White or of European descent  35 - 44 years old         No          No   \n",
       "4  White or of European descent  18 - 24 years old        Yes         NaN   \n",
       "\n",
       "                          SurveyTooLong     SurveyEasy  \n",
       "0  The survey was an appropriate length      Very easy  \n",
       "1  The survey was an appropriate length  Somewhat easy  \n",
       "2                                   NaN            NaN  \n",
       "3  The survey was an appropriate length  Somewhat easy  \n",
       "4  The survey was an appropriate length  Somewhat easy  \n",
       "\n",
       "[5 rows x 129 columns]"
      ]
     },
     "execution_count": 1,
     "metadata": {},
     "output_type": "execute_result"
    }
   ],
   "source": [
    "import pandas as pd\n",
    "df = pd.read_csv('survey_results_public.csv',low_memory=False)\n",
    "df.head()"
   ]
  },
  {
   "cell_type": "code",
   "execution_count": 2,
   "metadata": {},
   "outputs": [
    {
     "name": "stdout",
     "output_type": "stream",
     "text": [
      "<class 'pandas.core.frame.DataFrame'>\n",
      "RangeIndex: 98855 entries, 0 to 98854\n",
      "Columns: 129 entries, Respondent to SurveyEasy\n",
      "dtypes: float64(41), int64(1), object(87)\n",
      "memory usage: 97.3+ MB\n"
     ]
    }
   ],
   "source": [
    "df.info()"
   ]
  },
  {
   "cell_type": "code",
   "execution_count": 3,
   "metadata": {},
   "outputs": [
    {
     "name": "stdout",
     "output_type": "stream",
     "text": [
      "Respondent\n",
      "Hobby\n",
      "OpenSource\n",
      "Country\n",
      "Student\n",
      "Employment\n",
      "FormalEducation\n",
      "UndergradMajor\n",
      "CompanySize\n",
      "DevType\n",
      "YearsCoding\n",
      "YearsCodingProf\n",
      "JobSatisfaction\n",
      "CareerSatisfaction\n",
      "HopeFiveYears\n",
      "JobSearchStatus\n",
      "LastNewJob\n",
      "AssessJob1\n",
      "AssessJob2\n",
      "AssessJob3\n",
      "AssessJob4\n",
      "AssessJob5\n",
      "AssessJob6\n",
      "AssessJob7\n",
      "AssessJob8\n",
      "AssessJob9\n",
      "AssessJob10\n",
      "AssessBenefits1\n",
      "AssessBenefits2\n",
      "AssessBenefits3\n",
      "AssessBenefits4\n",
      "AssessBenefits5\n",
      "AssessBenefits6\n",
      "AssessBenefits7\n",
      "AssessBenefits8\n",
      "AssessBenefits9\n",
      "AssessBenefits10\n",
      "AssessBenefits11\n",
      "JobContactPriorities1\n",
      "JobContactPriorities2\n",
      "JobContactPriorities3\n",
      "JobContactPriorities4\n",
      "JobContactPriorities5\n",
      "JobEmailPriorities1\n",
      "JobEmailPriorities2\n",
      "JobEmailPriorities3\n",
      "JobEmailPriorities4\n",
      "JobEmailPriorities5\n",
      "JobEmailPriorities6\n",
      "JobEmailPriorities7\n",
      "UpdateCV\n",
      "Currency\n",
      "Salary\n",
      "SalaryType\n",
      "ConvertedSalary\n",
      "CurrencySymbol\n",
      "CommunicationTools\n",
      "TimeFullyProductive\n",
      "EducationTypes\n",
      "SelfTaughtTypes\n",
      "TimeAfterBootcamp\n",
      "HackathonReasons\n",
      "AgreeDisagree1\n",
      "AgreeDisagree2\n",
      "AgreeDisagree3\n",
      "LanguageWorkedWith\n",
      "LanguageDesireNextYear\n",
      "DatabaseWorkedWith\n",
      "DatabaseDesireNextYear\n",
      "PlatformWorkedWith\n",
      "PlatformDesireNextYear\n",
      "FrameworkWorkedWith\n",
      "FrameworkDesireNextYear\n",
      "IDE\n",
      "OperatingSystem\n",
      "NumberMonitors\n",
      "Methodology\n",
      "VersionControl\n",
      "CheckInCode\n",
      "AdBlocker\n",
      "AdBlockerDisable\n",
      "AdBlockerReasons\n",
      "AdsAgreeDisagree1\n",
      "AdsAgreeDisagree2\n",
      "AdsAgreeDisagree3\n",
      "AdsActions\n",
      "AdsPriorities1\n",
      "AdsPriorities2\n",
      "AdsPriorities3\n",
      "AdsPriorities4\n",
      "AdsPriorities5\n",
      "AdsPriorities6\n",
      "AdsPriorities7\n",
      "AIDangerous\n",
      "AIInteresting\n",
      "AIResponsible\n",
      "AIFuture\n",
      "EthicsChoice\n",
      "EthicsReport\n",
      "EthicsResponsible\n",
      "EthicalImplications\n",
      "StackOverflowRecommend\n",
      "StackOverflowVisit\n",
      "StackOverflowHasAccount\n",
      "StackOverflowParticipate\n",
      "StackOverflowJobs\n",
      "StackOverflowDevStory\n",
      "StackOverflowJobsRecommend\n",
      "StackOverflowConsiderMember\n",
      "HypotheticalTools1\n",
      "HypotheticalTools2\n",
      "HypotheticalTools3\n",
      "HypotheticalTools4\n",
      "HypotheticalTools5\n",
      "WakeTime\n",
      "HoursComputer\n",
      "HoursOutside\n",
      "SkipMeals\n",
      "ErgonomicDevices\n",
      "Exercise\n",
      "Gender\n",
      "SexualOrientation\n",
      "EducationParents\n",
      "RaceEthnicity\n",
      "Age\n",
      "Dependents\n",
      "MilitaryUS\n",
      "SurveyTooLong\n",
      "SurveyEasy\n"
     ]
    }
   ],
   "source": [
    "for col in df.columns:\n",
    "    print(col)"
   ]
  },
  {
   "cell_type": "code",
   "execution_count": 4,
   "metadata": {},
   "outputs": [
    {
     "data": {
      "text/plain": [
       "0    10.0\n",
       "1     1.0\n",
       "2     NaN\n",
       "3     NaN\n",
       "4     8.0\n",
       "Name: AssessJob1, dtype: float64"
      ]
     },
     "execution_count": 4,
     "metadata": {},
     "output_type": "execute_result"
    }
   ],
   "source": [
    "df['AssessJob1'].head()"
   ]
  },
  {
   "cell_type": "code",
   "execution_count": 5,
   "metadata": {},
   "outputs": [
    {
     "data": {
      "text/plain": [
       "9.0     10200\n",
       "8.0      9359\n",
       "10.0     9163\n",
       "7.0      8186\n",
       "6.0      6841\n",
       "5.0      5676\n",
       "1.0      4981\n",
       "4.0      4635\n",
       "3.0      4070\n",
       "2.0      3874\n",
       "Name: AssessJob1, dtype: int64"
      ]
     },
     "execution_count": 5,
     "metadata": {},
     "output_type": "execute_result"
    }
   ],
   "source": [
    "df['AssessJob1'].value_counts()"
   ]
  },
  {
   "cell_type": "code",
   "execution_count": 6,
   "metadata": {},
   "outputs": [
    {
     "name": "stdout",
     "output_type": "stream",
     "text": [
      "(1.0    4981\n",
      "Name: AssessJob1, dtype: int64, 2.0    3874\n",
      "Name: AssessJob1, dtype: int64)\n",
      "(1.0    2301\n",
      "Name: AssessJob2, dtype: int64, 2.0    3122\n",
      "Name: AssessJob2, dtype: int64)\n",
      "(1.0    3694\n",
      "Name: AssessJob3, dtype: int64, 2.0    5199\n",
      "Name: AssessJob3, dtype: int64)\n",
      "(1.0    11586\n",
      "Name: AssessJob4, dtype: int64, 2.0    11358\n",
      "Name: AssessJob4, dtype: int64)\n",
      "(1.0    12263\n",
      "Name: AssessJob5, dtype: int64, 2.0    12069\n",
      "Name: AssessJob5, dtype: int64)\n",
      "(1.0    9117\n",
      "Name: AssessJob6, dtype: int64, 2.0    9248\n",
      "Name: AssessJob6, dtype: int64)\n",
      "(1.0    6872\n",
      "Name: AssessJob7, dtype: int64, 2.0    5847\n",
      "Name: AssessJob7, dtype: int64)\n",
      "(1.0    10694\n",
      "Name: AssessJob8, dtype: int64, 2.0    9935\n",
      "Name: AssessJob8, dtype: int64)\n",
      "(1.0    1102\n",
      "Name: AssessJob9, dtype: int64, 2.0    1908\n",
      "Name: AssessJob9, dtype: int64)\n",
      "(1.0    4375\n",
      "Name: AssessJob10, dtype: int64, 2.0    4425\n",
      "Name: AssessJob10, dtype: int64)\n"
     ]
    }
   ],
   "source": [
    "def top_priorities(df):\n",
    "    return df[df == 1].value_counts(),df[df == 2].value_counts()\n",
    "col_list = ['AssessJob1','AssessJob2','AssessJob3','AssessJob4','AssessJob5','AssessJob6','AssessJob7','AssessJob8','AssessJob9','AssessJob10']\n",
    "for col in col_list:\n",
    "    print(top_priorities(df[col]))\n"
   ]
  },
  {
   "cell_type": "markdown",
   "metadata": {},
   "source": [
    "In looking at respondents top pick for Job Assesment, the highest priority was \"The compensation and benefits offered.\" The highest priority with the second most votes was \"The languages, frameworks, and other technologies I'd be working with.\" The third was \"Opportunities for professional development\"\n"
   ]
  },
  {
   "cell_type": "code",
   "execution_count": 15,
   "metadata": {},
   "outputs": [
    {
     "name": "stdout",
     "output_type": "stream",
     "text": [
      "(1.0    23470\n",
      "Name: AdsPriorities1, dtype: int64, 2.0    10910\n",
      "Name: AdsPriorities1, dtype: int64)\n",
      "(1.0    7832\n",
      "Name: AdsPriorities2, dtype: int64, 2.0    9383\n",
      "Name: AdsPriorities2, dtype: int64)\n",
      "(1.0    8553\n",
      "Name: AdsPriorities3, dtype: int64, 2.0    13570\n",
      "Name: AdsPriorities3, dtype: int64)\n",
      "(1.0    8322\n",
      "Name: AdsPriorities4, dtype: int64, 2.0    9365\n",
      "Name: AdsPriorities4, dtype: int64)\n",
      "(1.0    5590\n",
      "Name: AdsPriorities5, dtype: int64, 2.0    7484\n",
      "Name: AdsPriorities5, dtype: int64)\n",
      "(1.0    3109\n",
      "Name: AdsPriorities6, dtype: int64, 2.0    4343\n",
      "Name: AdsPriorities6, dtype: int64)\n",
      "(1.0    3603\n",
      "Name: AdsPriorities7, dtype: int64, 2.0    5424\n",
      "Name: AdsPriorities7, dtype: int64)\n"
     ]
    }
   ],
   "source": [
    "col_list_1 = ['AdsPriorities1','AdsPriorities2','AdsPriorities3','AdsPriorities4','AdsPriorities5','AdsPriorities6','AdsPriorities7']\n",
    "for col in col_list_1:\n",
    "    print(top_priorities(df[col]))"
   ]
  },
  {
   "cell_type": "markdown",
   "metadata": {},
   "source": [
    "In looking at ad priorities for respondents, the highest rated ad priority was \"The advertisement is relevant to me.\"\n",
    "The second highest priority was \"The advertisement provides useful information.\""
   ]
  },
  {
   "cell_type": "code",
   "execution_count": 8,
   "metadata": {},
   "outputs": [
    {
     "data": {
      "text/plain": [
       "Yes    79897\n",
       "No     18958\n",
       "Name: Hobby, dtype: int64"
      ]
     },
     "execution_count": 8,
     "metadata": {},
     "output_type": "execute_result"
    }
   ],
   "source": [
    "df['Hobby'].value_counts()"
   ]
  },
  {
   "cell_type": "code",
   "execution_count": 9,
   "metadata": {},
   "outputs": [
    {
     "data": {
      "text/plain": [
       "<matplotlib.axes._subplots.AxesSubplot at 0x120d0c4e0>"
      ]
     },
     "execution_count": 9,
     "metadata": {},
     "output_type": "execute_result"
    },
    {
     "data": {
      "image/png": "[encoded data removed]",
      "text/plain": [
       "<Figure size 432x288 with 1 Axes>"
      ]
     },
     "metadata": {
      "needs_background": "light"
     },
     "output_type": "display_data"
    }
   ],
   "source": [
    "import matplotlib.pyplot as plt\n",
    "%matplotlib inline\n",
    "df['Hobby'].value_counts().plot(kind='bar')"
   ]
  },
  {
   "cell_type": "code",
   "execution_count": 10,
   "metadata": {},
   "outputs": [
    {
     "data": {
      "text/plain": [
       "I already had a full-time job as a developer when I began the program    3025\n",
       "Immediately after graduating                                             1085\n",
       "One to three months                                                       668\n",
       "I haven’t gotten a developer job                                          581\n",
       "Less than a month                                                         496\n",
       "Four to six months                                                        347\n",
       "Six months to a year                                                      239\n",
       "Longer than a year                                                        211\n",
       "Name: TimeAfterBootcamp, dtype: int64"
      ]
     },
     "execution_count": 10,
     "metadata": {},
     "output_type": "execute_result"
    }
   ],
   "source": [
    "df['TimeAfterBootcamp'].value_counts()"
   ]
  },
  {
   "cell_type": "code",
   "execution_count": 11,
   "metadata": {},
   "outputs": [
    {
     "data": {
      "text/plain": [
       "<matplotlib.axes._subplots.AxesSubplot at 0x11fdd1860>"
      ]
     },
     "execution_count": 11,
     "metadata": {},
     "output_type": "execute_result"
    },
    {
     "data": {
      "image/png": "[encoded data removed]",
      "text/plain": [
       "<Figure size 432x288 with 1 Axes>"
      ]
     },
     "metadata": {
      "needs_background": "light"
     },
     "output_type": "display_data"
    }
   ],
   "source": [
    "df['TimeAfterBootcamp'].value_counts(ascending=True).plot(kind='barh')"
   ]
  },
  {
   "cell_type": "code",
   "execution_count": 12,
   "metadata": {},
   "outputs": [
    {
     "data": {
      "text/plain": [
       "C#;JavaScript;SQL;HTML;CSS                1347\n",
       "JavaScript;PHP;SQL;HTML;CSS               1235\n",
       "Java                                      1030\n",
       "JavaScript;HTML;CSS                        881\n",
       "C#;JavaScript;SQL;TypeScript;HTML;CSS      828\n",
       "JavaScript;PHP;SQL;HTML;CSS;Bash/Shell     768\n",
       "JavaScript;PHP;HTML;CSS                    725\n",
       "Java;JavaScript;SQL;HTML;CSS               530\n",
       "C#                                         491\n",
       "Python                                     399\n",
       "JavaScript;TypeScript;HTML;CSS             394\n",
       "Java;JavaScript;HTML;CSS                   377\n",
       "C#;SQL                                     365\n",
       "Java;JavaScript;PHP;SQL;HTML;CSS           350\n",
       "C#;JavaScript;HTML;CSS                     336\n",
       "Name: LanguageWorkedWith, dtype: int64"
      ]
     },
     "execution_count": 12,
     "metadata": {},
     "output_type": "execute_result"
    }
   ],
   "source": [
    "df['LanguageWorkedWith'].value_counts()[:15]"
   ]
  },
  {
   "cell_type": "code",
   "execution_count": 13,
   "metadata": {},
   "outputs": [
    {
     "data": {
      "text/plain": [
       "25 - 34 years old     31759\n",
       "18 - 24 years old     15249\n",
       "35 - 44 years old     11477\n",
       "45 - 54 years old      3313\n",
       "Under 18 years old     1638\n",
       "55 - 64 years old       959\n",
       "65 years or older       179\n",
       "Name: Age, dtype: int64"
      ]
     },
     "execution_count": 13,
     "metadata": {},
     "output_type": "execute_result"
    }
   ],
   "source": [
    "df['Age'].value_counts()"
   ]
  },
  {
   "cell_type": "code",
   "execution_count": 14,
   "metadata": {},
   "outputs": [
    {
     "data": {
      "text/plain": [
       "United States         20309\n",
       "India                 13721\n",
       "Germany                6459\n",
       "United Kingdom         6221\n",
       "Canada                 3393\n",
       "Russian Federation     2869\n",
       "France                 2572\n",
       "Brazil                 2505\n",
       "Poland                 2122\n",
       "Australia              2018\n",
       "Name: Country, dtype: int64"
      ]
     },
     "execution_count": 14,
     "metadata": {},
     "output_type": "execute_result"
    }
   ],
   "source": [
    "df['Country'].value_counts()[:10]"
   ]
  },
  {
   "cell_type": "code",
   "execution_count": 16,
   "metadata": {},
   "outputs": [
    {
     "data": {
      "text/plain": [
       "<matplotlib.axes._subplots.AxesSubplot at 0x1215589b0>"
      ]
     },
     "execution_count": 16,
     "metadata": {},
     "output_type": "execute_result"
    },
    {
     "data": {
      "image/png": "[encoded data removed]",
      "text/plain": [
       "<Figure size 432x288 with 1 Axes>"
      ]
     },
     "metadata": {
      "needs_background": "light"
     },
     "output_type": "display_data"
    }
   ],
   "source": [
    "df['Country'].value_counts()[:10].plot('bar')"
   ]
  },
  {
   "cell_type": "code",
   "execution_count": null,
   "metadata": {},
   "outputs": [],
   "source": []
  }
 ],
 "metadata": {
  "kernelspec": {
   "display_name": "Python 3",
   "language": "python",
   "name": "python3"
  },
  "language_info": {
   "codemirror_mode": {
    "name": "ipython",
    "version": 3
   },
   "file_extension": ".py",
   "mimetype": "text/x-python",
   "name": "python",
   "nbconvert_exporter": "python",
   "pygments_lexer": "ipython3",
   "version": "3.7.3"
  }
 },
 "nbformat": 4,
 "nbformat_minor": 2
}
